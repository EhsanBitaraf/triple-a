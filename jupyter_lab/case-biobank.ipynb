{
 "cells": [
  {
   "attachments": {},
   "cell_type": "markdown",
   "metadata": {},
   "source": [
    "# Bio Bank"
   ]
  },
  {
   "cell_type": "code",
   "execution_count": 1,
   "metadata": {},
   "outputs": [],
   "source": [
    "import json\n",
    "import triplea.service.graph.export.export as gexport"
   ]
  },
  {
   "attachments": {},
   "cell_type": "markdown",
   "metadata": {},
   "source": [
    "## Read Graph"
   ]
  },
  {
   "cell_type": "code",
   "execution_count": 2,
   "metadata": {},
   "outputs": [],
   "source": [
    "f = open(r\"C:\\Users\\Bitaraf\\Desktop\\my-folder\\code\\github\\triple-a\\datasets\\biobank-graphdict-with-duplication.json\" , encoding=\"utf-8\")\n",
    "data = json.load(f)\n",
    "f.close() "
   ]
  },
  {
   "cell_type": "code",
   "execution_count": 3,
   "metadata": {},
   "outputs": [
    {
     "name": "stdout",
     "output_type": "stream",
     "text": [
      "Nodes : 581459\n",
      "Edges : 1335952\n"
     ]
    }
   ],
   "source": [
    "G = gexport.export_networkx_from_graphdict(data,graph_type='directed')\n",
    "print(f'Nodes : {G.number_of_nodes()}')\n",
    "print(f'Edges : {G.number_of_edges()}')"
   ]
  },
  {
   "cell_type": "code",
   "execution_count": 15,
   "metadata": {},
   "outputs": [
    {
     "name": "stdout",
     "output_type": "stream",
     "text": [
      "Report Time : 1686677288.3154972\n",
      "Elapsed Time Calculation Report : 364.3803617954254\n",
      "Graph Type: Directed\n",
      "Graph Nodes: 581459\n",
      "Graph Edges: 1335952\n",
      "Graph Average Degree : 2.2975859002956356\n",
      "Graph Density : 3.951421943279886e-06\n",
      "Graph Transitivity : 0.004313582228441441\n",
      "Graph max path length : NaN\n",
      "Graph Average Clustering Coefficient : 0.012750504866132177\n",
      "Graph Degree Assortativity Coefficient : -0.14280524783789214\n",
      "Graph Radius : NaN Found infinite path length because the digraph is not strongly connected\n",
      "SCC: 581405\n",
      "WCC: 746\n",
      "Reciprocity : 8.084122782854473e-05\n",
      "Graph Diameter : Can not calculate in directed graph.\n",
      "Number of Components : Can not calculate in directed graph.\n"
     ]
    }
   ],
   "source": [
    "from triplea.service.graph.analysis.info import info\n",
    "info(G)"
   ]
  },
  {
   "cell_type": "code",
   "execution_count": 4,
   "metadata": {},
   "outputs": [
    {
     "name": "stdout",
     "output_type": "stream",
     "text": [
      "['Humans', 'Female', 'Male', 'Middle Aged', 'Adult', 'Aged', 'Risk Factors', 'United States', 'Adolescent', 'United Kingdom', 'Retrospective Studies', 'Blood Transfusion', 'Child', 'Young Adult', 'Prospective Studies', 'Polymorphism, Single Nucleotide', 'Aged, 80 and over', 'Cohort Studies', 'Protein Conformation', 'Cryopreservation', 'Time Factors', 'Infant, Newborn', 'Pregnancy', 'Cross-Sectional Studies', 'Neoplasms', 'Prognosis', 'Case-Control Studies', 'Mice', 'Infant', 'Child, Preschool', 'Informed Consent', 'Surveys and Questionnaires', 'Blood Preservation', 'COVID-19', 'Risk Assessment', 'Treatment Outcome', 'Crystallography, X-Ray', 'Mendelian Randomization Analysis', 'Brain', 'Incidence', 'Cardiovascular Diseases', 'Binding Sites', 'Follow-Up Studies', 'Reproducibility of Results', 'Protein Binding', 'Mutation', 'China', 'Quality Control', 'SARS-CoV-2', 'Transfusion Reaction']\n"
     ]
    }
   ],
   "source": [
    "import triplea.service.graph.analysis.ganalysis as ganaliz\n",
    "dcs = ganaliz.sorted_degree_centrality(G)\n",
    "dcs = dcs.nlargest(n=80, keep='first')\n",
    "# print(dcs)\n",
    "# print(dcs.to_dict())\n",
    "rl = []\n",
    "for k in dcs.to_dict():\n",
    "    rl.append(k)\n",
    "\n",
    "l2 = ['Blood Banks', 'Biological Specimen Banks', 'Animals', 'Tissue Banks', 'Genome-Wide Association Study', 'Blood Donors',\n",
    "'Databases, Factual', 'Models, Molecular', '25826379', 'Proteins', 'Databases, Protein', 'Tissue Donors', \n",
    "'Genetic Predisposition to Disease', 'Amino Acid Sequence', '30305743',  'Biomarkers', 'Software', 'Biomedical Research',\n",
    "'Molecular Sequence Data', 'Phenotype', 'Algorithms', 'Eye Banks', 'Specimen Handling', 'Registries', 'Genotype',\n",
    "'Computational Biology',  'Fetal Blood',  '28641372', '10592235',  'Tissue and Organ Procurement',\n",
    "'29076399', 'Milk Banks', 'Genomics', '17701901',\n",
    "'DNA',  'Protein Structure, Secondary', 'Biomarkers, Tumor', '33744283',  '25722852', '0',\n",
    "'BLOOD BANKS', 'Computer Simulation', 'UK Biobank', '25642630', '26050253', 'Logistic Models',\n",
    "'27061298', 'Sperm Banks', 'Cornea', 'Cell Line, Tumor',  'Protein Structure, Tertiary', \n",
    "'26432245', 'Databases, Genetic',  '33949018',  '29846171','30677473',\n",
    "'Gene Expression Profiling', 'Protein Folding', '29686387', 'biobank', 'Data Collection', '25673413',\n",
    " 'Molecular Docking Simulation', 'Gene Expression Regulation, Neoplastic',\n",
    "'Longitudinal Studies', '26414676', 'Proportional Hazards Models', \n",
    "'Blood Specimen Collection', 'Proteomics', \n",
    "\n",
    "  \n",
    "  ]\n",
    "l3 = [x for x in rl if x not in l2]\n",
    "print(l3)"
   ]
  },
  {
   "attachments": {},
   "cell_type": "markdown",
   "metadata": {},
   "source": [
    "Remove"
   ]
  },
  {
   "cell_type": "code",
   "execution_count": 5,
   "metadata": {},
   "outputs": [
    {
     "name": "stdout",
     "output_type": "stream",
     "text": [
      "Nodes : 581409\n",
      "Edges : 1193339\n"
     ]
    }
   ],
   "source": [
    "remove_list =['Humans', 'Female', 'Male', 'Middle Aged', 'Adult', 'Aged', 'Risk Factors', 'United States', 'Adolescent', 'United Kingdom', 'Retrospective Studies', 'Blood Transfusion', 'Child', 'Young Adult', 'Prospective Studies', 'Polymorphism, Single Nucleotide', 'Aged, 80 and over', 'Cohort Studies', 'Protein Conformation', 'Cryopreservation', 'Time Factors', 'Infant, Newborn', 'Pregnancy', 'Cross-Sectional Studies', 'Neoplasms', 'Prognosis', 'Case-Control Studies', 'Mice', 'Infant', 'Child, Preschool', 'Informed Consent', 'Surveys and Questionnaires', 'Blood Preservation', 'COVID-19', 'Risk Assessment', 'Treatment Outcome', 'Crystallography, X-Ray', 'Mendelian Randomization Analysis', 'Brain', 'Incidence', 'Cardiovascular Diseases', 'Binding Sites', 'Follow-Up Studies', 'Reproducibility of Results', 'Protein Binding', 'Mutation', 'China', 'Quality Control', 'SARS-CoV-2', 'Transfusion Reaction']\n",
    "\n",
    "for i in remove_list:\n",
    "    G.remove_node(i)\n",
    "\n",
    "print(f'Nodes : {G.number_of_nodes()}')\n",
    "print(f'Edges : {G.number_of_edges()}')"
   ]
  },
  {
   "attachments": {},
   "cell_type": "markdown",
   "metadata": {},
   "source": [
    "## Remove Isolated Node\n"
   ]
  },
  {
   "cell_type": "code",
   "execution_count": 6,
   "metadata": {},
   "outputs": [
    {
     "name": "stdout",
     "output_type": "stream",
     "text": [
      "Number of isolated nodes : 692\n"
     ]
    }
   ],
   "source": [
    "import networkx as nx\n",
    "isolates = list(nx.isolates(G))\n",
    "print(f\"Number of isolated nodes : {len(isolates)}\")\n",
    "G.remove_nodes_from(isolates)"
   ]
  },
  {
   "attachments": {},
   "cell_type": "markdown",
   "metadata": {},
   "source": [
    "## Remove low degree node"
   ]
  },
  {
   "cell_type": "code",
   "execution_count": 7,
   "metadata": {},
   "outputs": [
    {
     "name": "stdout",
     "output_type": "stream",
     "text": [
      "Remove 42127 Keywords and 382432 Articles\n"
     ]
    }
   ],
   "source": [
    "k=0\n",
    "a=0\n",
    "for node , d in list(G.nodes(data=True)):\n",
    "    degree = G.degree(node)\n",
    "    node_type = d['Type']\n",
    "    if node_type == 'Keyword' and degree ==1:\n",
    "        k=k+1\n",
    "        G.remove_node(node)\n",
    "        # print(f' {node}  {node_type} {a}')\n",
    "    elif node_type == 'Article' and degree == 1:\n",
    "        a=a+1\n",
    "        G.remove_node(node)\n",
    "\n",
    "print(f\"Remove {k} Keywords and {a} Articles\")\n"
   ]
  },
  {
   "attachments": {},
   "cell_type": "markdown",
   "metadata": {},
   "source": [
    "## Save GraphMl Format"
   ]
  },
  {
   "cell_type": "code",
   "execution_count": 12,
   "metadata": {},
   "outputs": [],
   "source": [
    "nx.write_graphml_lxml(G, \"../datasets/biobank-article-keyword.graphml\")"
   ]
  },
  {
   "cell_type": "code",
   "execution_count": 111,
   "metadata": {},
   "outputs": [
    {
     "name": "stdout",
     "output_type": "stream",
     "text": [
      "{'Type': 'Keyword', 'Name': 'Information Systems'}\n",
      "[]\n",
      "[('20940504', 'Information Systems'), ('20940502', 'Information Systems'), ('20703524', 'Information Systems'), ('20652420', 'Information Systems'), ('19712062', 'Information Systems'), ('19608090', 'Information Systems'), ('18683361', 'Information Systems'), ('18400128', 'Information Systems'), ('18365220', 'Information Systems'), ('17985145', 'Information Systems'), ('17429138', 'Information Systems'), ('17238706', 'Information Systems'), ('17233157', 'Information Systems'), ('16933088', 'Information Systems'), ('16824506', 'Information Systems'), ('16351750', 'Information Systems'), ('16220836', 'Information Systems'), ('16211160', 'Information Systems'), ('15480255', 'Information Systems'), ('14664445', 'Information Systems'), ('12412324', 'Information Systems'), ('12058558', 'Information Systems'), ('11185195', 'Information Systems'), ('10102131', 'Information Systems'), ('22366771', 'Information Systems'), ('22168032', 'Information Systems'), ('21893827', 'Information Systems'), ('21254448', 'Information Systems'), ('21210979', 'Information Systems'), ('9608887', 'Information Systems'), ('9595016', 'Information Systems'), ('10176163', 'Information Systems'), ('10170219', 'Information Systems'), ('10557558', 'Information Systems'), ('9390286', 'Information Systems'), ('8974204', 'Information Systems'), ('7578577', 'Information Systems'), ('7657143', 'Information Systems'), ('7631032', 'Information Systems'), ('7844940', 'Information Systems'), ('8188428', 'Information Systems'), ('10163702', 'Information Systems'), ('8428384', 'Information Systems'), ('1598235', 'Information Systems'), ('1492738', 'Information Systems'), ('1754975', 'Information Systems'), ('10112906', 'Information Systems'), ('10109108', 'Information Systems'), ('2395643', 'Information Systems'), ('1973481', 'Information Systems'), ('1692116', 'Information Systems'), ('2256967', 'Information Systems'), ('2181139', 'Information Systems'), ('2330366', 'Information Systems'), ('2197518', 'Information Systems'), ('2594074', 'Information Systems'), ('2616591', 'Information Systems'), ('2636474', 'Information Systems'), ('2797140', 'Information Systems'), ('2637535', 'Information Systems'), ('10294628', 'Information Systems'), ('2667672', 'Information Systems'), ('2765035', 'Information Systems'), ('2720462', 'Information Systems'), ('2524702', 'Information Systems'), ('10292491', 'Information Systems'), ('2819127', 'Information Systems'), ('2648677', 'Information Systems'), ('2643092', 'Information Systems'), ('2609779', 'Information Systems'), ('3238530', 'Information Systems'), ('3047671', 'Information Systems'), ('3420569', 'Information Systems'), ('10286623', 'Information Systems'), ('10286059', 'Information Systems'), ('3387539', 'Information Systems'), ('3198907', 'Information Systems'), ('10288578', 'Information Systems'), ('3681998', 'Information Systems'), ('3658675', 'Information Systems'), ('3480088', 'Information Systems'), ('3652222', 'Information Systems'), ('3447162', 'Information Systems'), ('10283336', 'Information Systems'), ('3492816', 'Information Systems'), ('3791061', 'Information Systems'), ('3775834', 'Information Systems'), ('3469688', 'Information Systems'), ('3761414', 'Information Systems'), ('10278479', 'Information Systems'), ('3738881', 'Information Systems'), ('10276956', 'Information Systems'), ('3753764', 'Information Systems'), ('3468901', 'Information Systems'), ('4071615', 'Information Systems'), ('3907052', 'Information Systems'), ('3840610', 'Information Systems'), ('4095690', 'Information Systems'), ('4018825', 'Information Systems'), ('3927990', 'Information Systems'), ('3880336', 'Information Systems'), ('6332162', 'Information Systems'), ('6485305', 'Information Systems'), ('6431694', 'Information Systems'), ('6099643', 'Information Systems'), ('10310520', 'Information Systems'), ('10263169', 'Information Systems'), ('6839680', 'Information Systems'), ('7160664', 'Information Systems'), ('7064212', 'Information Systems'), ('7464349', 'Information Systems'), ('6995744', 'Information Systems'), ('671731', 'Information Systems'), ('281997', 'Information Systems'), ('279749', 'Information Systems'), ('10239399', 'Information Systems'), ('937376', 'Information Systems'), ('1028600', 'Information Systems'), ('1157469', 'Information Systems'), ('1157463', 'Information Systems'), ('1094831', 'Information Systems'), ('1129837', 'Information Systems'), ('4799609', 'Information Systems'), ('4734638', 'Information Systems'), ('4779056', 'Information Systems'), ('4678423', 'Information Systems'), ('4641824', 'Information Systems'), ('5026578', 'Information Systems'), ('5139481', 'Information Systems'), ('5452301', 'Information Systems'), ('5452300', 'Information Systems'), ('5452299', 'Information Systems'), ('5400763', 'Information Systems'), ('5822797', 'Information Systems'), ('5822794', 'Information Systems'), ('5897229', 'Information Systems'), ('5860074', 'Information Systems'), ('25317528', 'Information Systems'), ('29496156', 'Information Systems'), ('29496150', 'Information Systems'), ('29496134', 'Information Systems'), ('23402130', 'Information Systems'), ('18487740', 'Information Systems'), ('17945915', 'Information Systems'), ('15888679', 'Information Systems'), ('11360499', 'Information Systems'), ('10557586', 'Information Systems'), ('10097558', 'Information Systems'), ('9856180', 'Information Systems'), ('8975381', 'Information Systems'), ('10158302', 'Information Systems'), ('8071098', 'Information Systems'), ('8060493', 'Information Systems'), ('1481404', 'Information Systems'), ('1428658', 'Information Systems'), ('2013948', 'Information Systems'), ('10110297', 'Information Systems'), ('2039221', 'Information Systems'), ('10110537', 'Information Systems'), ('10110536', 'Information Systems'), ('1958871', 'Information Systems'), ('1984543', 'Information Systems'), ('10109138', 'Information Systems'), ('10104765', 'Information Systems'), ('10107295', 'Information Systems'), ('2396640', 'Information Systems'), ('2230092', 'Information Systems'), ('2398988', 'Information Systems'), ('2396430', 'Information Systems'), ('10105626', 'Information Systems'), ('2370664', 'Information Systems'), ('10105107', 'Information Systems'), ('10105625', 'Information Systems'), ('2398637', 'Information Systems'), ('2355369', 'Information Systems'), ('2344103', 'Information Systems'), ('10113183', 'Information Systems'), ('10104301', 'Information Systems'), ('2336043', 'Information Systems'), ('10104295', 'Information Systems'), ('10104300', 'Information Systems'), ('10104852', 'Information Systems'), ('2319595', 'Information Systems'), ('2319222', 'Information Systems'), ('2311352', 'Information Systems'), ('10103861', 'Information Systems'), ('10103788', 'Information Systems'), ('2300250', 'Information Systems'), ('2088557', 'Information Systems'), ('2088552', 'Information Systems'), ('2088551', 'Information Systems'), ('2156130', 'Information Systems'), ('10103540', 'Information Systems'), ('10103521', 'Information Systems'), ('2583697', 'Information Systems'), ('2515512', 'Information Systems'), ('2683720', 'Information Systems'), ('2819515', 'Information Systems'), ('2678614', 'Information Systems'), ('2792707', 'Information Systems'), ('2756550', 'Information Systems'), ('2771934', 'Information Systems'), ('2765261', 'Information Systems'), ('2737440', 'Information Systems'), ('2724023', 'Information Systems'), ('2498985', 'Information Systems'), ('2721169', 'Information Systems'), ('2712533', 'Information Systems'), ('2750403', 'Information Systems'), ('2710780', 'Information Systems'), ('2709062', 'Information Systems'), ('2596795', 'Information Systems'), ('2914688', 'Information Systems'), ('10292221', 'Information Systems'), ('10294483', 'Information Systems'), ('2925045', 'Information Systems'), ('2911559', 'Information Systems'), ('2818493', 'Information Systems'), ('2802692', 'Information Systems'), ('2657271', 'Information Systems'), ('2612940', 'Information Systems'), ('2596186', 'Information Systems'), ('3215024', 'Information Systems'), ('3185900', 'Information Systems'), ('3214215', 'Information Systems'), ('2976787', 'Information Systems'), ('3410416', 'Information Systems'), ('3168432', 'Information Systems'), ('2973503', 'Information Systems'), ('3391556', 'Information Systems'), ('3244697', 'Information Systems'), ('3171614', 'Information Systems'), ('10287668', 'Information Systems'), ('10288241', 'Information Systems'), ('3420571', 'Information Systems'), ('3386423', 'Information Systems'), ('3363586', 'Information Systems'), ('3406930', 'Information Systems'), ('3355048', 'Information Systems'), ('3346489', 'Information Systems'), ('3285610', 'Information Systems'), ('3366185', 'Information Systems'), ('3282886', 'Information Systems'), ('3232606', 'Information Systems'), ('3137357', 'Information Systems'), ('3481624', 'Information Systems'), ('3653868', 'Information Systems'), ('3670480', 'Information Systems'), ('2889711', 'Information Systems'), ('3619942', 'Information Systems'), ('3685847', 'Information Systems'), ('3654179', 'Information Systems'), ('3300454', 'Information Systems'), ('3648956', 'Information Systems'), ('10280821', 'Information Systems'), ('3814636', 'Information Systems'), ('3812865', 'Information Systems'), ('3576013', 'Information Systems'), ('3556960', 'Information Systems'), ('3481118', 'Information Systems'), ('3447153', 'Information Systems'), ('3466754', 'Information Systems'), ('3810519', 'Information Systems'), ('3449852', 'Information Systems'), ('3758740', 'Information Systems'), ('3775034', 'Information Systems'), ('3534947', 'Information Systems'), ('2941498', 'Information Systems'), ('3699726', 'Information Systems'), ('3961834', 'Information Systems'), ('3726785', 'Information Systems'), ('3520738', 'Information Systems'), ('3944012', 'Information Systems'), ('3571842', 'Information Systems'), ('3939054', 'Information Systems'), ('4058589', 'Information Systems'), ('10274305', 'Information Systems'), ('4065070', 'Information Systems'), ('3900338', 'Information Systems'), ('4012300', 'Information Systems'), ('4004598', 'Information Systems'), ('3839696', 'Information Systems'), ('4017941', 'Information Systems'), ('4007473', 'Information Systems'), ('4004582', 'Information Systems'), ('3979038', 'Information Systems'), ('3907426', 'Information Systems'), ('3873321', 'Information Systems'), ('12267287', 'Information Systems'), ('10267511', 'Information Systems'), ('6724213', 'Information Systems'), ('6326223', 'Information Systems'), ('6546422', 'Information Systems'), ('6429085', 'Information Systems'), ('6335424', 'Information Systems'), ('6633201', 'Information Systems'), ('6623891', 'Information Systems'), ('6415911', 'Information Systems'), ('7078285', 'Information Systems'), ('7169526', 'Information Systems'), ('6897913', 'Information Systems'), ('7030248', 'Information Systems'), ('10253253', 'Information Systems'), ('6163085', 'Information Systems'), ('7322649', 'Information Systems'), ('6893759', 'Information Systems'), ('7457385', 'Information Systems'), ('7423568', 'Information Systems'), ('6988773', 'Information Systems'), ('7456423', 'Information Systems'), ('7446305', 'Information Systems'), ('7352328', 'Information Systems'), ('10248033', 'Information Systems'), ('512097', 'Information Systems'), ('312940', 'Information Systems'), ('571065', 'Information Systems'), ('288370', 'Information Systems'), ('288369', 'Information Systems'), ('711207', 'Information Systems'), ('701328', 'Information Systems'), ('626172', 'Information Systems'), ('279756', 'Information Systems'), ('340125', 'Information Systems'), ('923582', 'Information Systems'), ('589490', 'Information Systems'), ('242993', 'Information Systems'), ('875032', 'Information Systems'), ('835405', 'Information Systems'), ('264415', 'Information Systems'), ('1264179', 'Information Systems'), ('936831', 'Information Systems'), ('958006', 'Information Systems'), ('1249135', 'Information Systems'), ('1088811', 'Information Systems'), ('1078489', 'Information Systems'), ('1078487', 'Information Systems'), ('1078468', 'Information Systems'), ('1032298', 'Information Systems'), ('1195905', 'Information Systems'), ('810710', 'Information Systems'), ('1156062', 'Information Systems'), ('1101906', 'Information Systems'), ('1151976', 'Information Systems'), ('10236977', 'Information Systems'), ('1128221', 'Information Systems'), ('1117848', 'Information Systems'), ('4416766', 'Information Systems'), ('4829430', 'Information Systems'), ('4819406', 'Information Systems'), ('4794493', 'Information Systems'), ('4710350', 'Information Systems'), ('4716110', 'Information Systems'), ('4708936', 'Information Systems'), ('4503760', 'Information Systems'), ('5155775', 'Information Systems'), ('4933963', 'Information Systems'), ('4950578', 'Information Systems')]\n",
      "[]\n"
     ]
    }
   ],
   "source": [
    "# print(G.neighbors('Biomarkers'))\n",
    "node = \"Information Systems\"\n",
    "[n for n in G.neighbors(node)]\n",
    "\n",
    "print(G.nodes[node])\n",
    "print(list(G.neighbors(node)))\n",
    "print(G.in_edges(node))\n",
    "print(G.out_edges(node))"
   ]
  },
  {
   "cell_type": "code",
   "execution_count": null,
   "metadata": {},
   "outputs": [],
   "source": []
  }
 ],
 "metadata": {
  "kernelspec": {
   "display_name": "venv",
   "language": "python",
   "name": "python3"
  },
  "language_info": {
   "codemirror_mode": {
    "name": "ipython",
    "version": 3
   },
   "file_extension": ".py",
   "mimetype": "text/x-python",
   "name": "python",
   "nbconvert_exporter": "python",
   "pygments_lexer": "ipython3",
   "version": "3.10.5"
  },
  "orig_nbformat": 4
 },
 "nbformat": 4,
 "nbformat_minor": 2
}
