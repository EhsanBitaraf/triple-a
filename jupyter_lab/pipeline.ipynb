{
 "cells": [
  {
   "cell_type": "markdown",
   "metadata": {},
   "source": [
    "# Pipleline Sample\n",
    "This sample show the core functionality"
   ]
  },
  {
   "cell_type": "code",
   "execution_count": null,
   "metadata": {},
   "outputs": [],
   "source": [
    "import urllib.parse\n",
    "from triplea.service.repository.state.initial_arxiv import get_article_list_from_arxiv_all_store_to_arepo\n",
    "\n",
    "\n",
    "arxiv_search_string = 'ti:\"large+language+model\"+AND+ti:Benchmark'\n",
    "arxiv_search_string = 'ti:\"large language model\" AND ti:Benchmark'\n",
    "arxiv_search_string= urllib.parse.quote(arxiv_search_string)\n",
    "print(arxiv_search_string)\n",
    "get_article_list_from_arxiv_all_store_to_arepo(arxiv_search_string,0,10)"
   ]
  },
  {
   "cell_type": "code",
   "execution_count": 11,
   "metadata": {},
   "outputs": [
    {
     "name": "stdout",
     "output_type": "stream",
     "text": [
      "\u001b[32mTotal number of article is 1\u001b[0m\n",
      "\u001b[32m            Round (1) : Get another 1 record (Total 1 record)\u001b[0m\n",
      "\u001b[32madd 37567487 to knowledge repository. (1)\u001b[0m\n",
      "\u001b[32m            Round (2):\n",
      "                 Get another -1 record (total 1 record)\u001b[0m\n"
     ]
    }
   ],
   "source": [
    "from triplea.service.repository.state.initial import get_article_list_from_pubmed_all_store_to_arepo\n",
    "\n",
    "\n",
    "pubmed_search_string = '(\"large language model\"[Title]) AND (Benchmark[Title/Abstract])'\n",
    "get_article_list_from_pubmed_all_store_to_arepo(pubmed_search_string)"
   ]
  },
  {
   "cell_type": "markdown",
   "metadata": {},
   "source": [
    "## Get info of Article Repository\n"
   ]
  },
  {
   "cell_type": "code",
   "execution_count": 22,
   "metadata": {},
   "outputs": [
    {
     "name": "stdout",
     "output_type": "stream",
     "text": [
      "\u001b[32mNumber of article in article repository is 115\u001b[0m\n",
      "[{'State': -2, 'n': 0}, {'State': -1, 'n': 115}, {'State': 0, 'n': 0}, {'State': 1, 'n': 0}, {'State': 2, 'n': 0}, {'State': 3, 'n': 0}, {'State': 4, 'n': 0}]\n",
      "\u001b[32m115 article(s) in state -1.\u001b[0m\n"
     ]
    }
   ],
   "source": [
    "from triplea.service.click_logger import logger\n",
    "from triplea.service.repository import persist\n",
    "\n",
    "\n",
    "logger.INFO(\n",
    "    \"Number of article in article repository is \"\n",
    "    + str(persist.get_all_article_count())\n",
    ")\n",
    "\n",
    "data = persist.get_article_group_by_state()\n",
    "for i in range(-3, 7):\n",
    "    for s in data:\n",
    "        if s[\"State\"] == i:\n",
    "            w = 1\n",
    "            n = s[\"n\"]\n",
    "            if n != 0:\n",
    "                logger.INFO(f\"{n} article(s) in state {i}.\")"
   ]
  },
  {
   "cell_type": "markdown",
   "metadata": {},
   "source": [
    "## Moving Forward\n",
    "We move from state `0` to state `3`\n",
    "The best approach is to finalize state all the article in the `core state`.\n",
    "\n",
    "### Moving from `0` to `1`"
   ]
  },
  {
   "cell_type": "code",
   "execution_count": 15,
   "metadata": {},
   "outputs": [
    {
     "name": "stdout",
     "output_type": "stream",
     "text": [
      "\u001b[32m1 Article(s) is in state 0\u001b[0m\n",
      "Article 37567487 with state 0 forward to 1\n"
     ]
    }
   ],
   "source": [
    "from triplea.service.repository.pipeline_core import move_state_forward\n",
    "\n",
    "move_state_forward(0)"
   ]
  },
  {
   "cell_type": "markdown",
   "metadata": {},
   "source": [
    "### Moving from `1` to `2`"
   ]
  },
  {
   "cell_type": "code",
   "execution_count": null,
   "metadata": {},
   "outputs": [],
   "source": [
    "move_state_forward(1)"
   ]
  }
 ],
 "metadata": {
  "kernelspec": {
   "display_name": "venv",
   "language": "python",
   "name": "python3"
  },
  "language_info": {
   "codemirror_mode": {
    "name": "ipython",
    "version": 3
   },
   "file_extension": ".py",
   "mimetype": "text/x-python",
   "name": "python",
   "nbconvert_exporter": "python",
   "pygments_lexer": "ipython3",
   "version": "3.10.5"
  }
 },
 "nbformat": 4,
 "nbformat_minor": 2
}
